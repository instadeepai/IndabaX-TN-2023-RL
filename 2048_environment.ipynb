{
  "cells": [
    {
      "cell_type": "markdown",
      "metadata": {
        "id": "nSAotnkGYuKl"
      },
      "source": [
        "# Tutorial on How to Implement a 2048 Environment"
      ]
    },
    {
      "cell_type": "markdown",
      "metadata": {
        "id": "77CKjfv7Y_LG"
      },
      "source": [
        "![image.png](data:image/png;base64,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)"
      ]
    },
    {
      "cell_type": "markdown",
      "metadata": {
        "id": "N8l_sc3S5RPG"
      },
      "source": [
        "# Introduction \n",
        "This tutorial will guide you through the implementation of an environment in Jumanji. We will take the example of **2048**. \n",
        "\n",
        "We will follow the following steps:\n",
        "- [x] Implement types\n",
        "- [x] Environment dynamics: step and reset\n",
        "- [x] Run a random agent on the environment\n",
        "- [x] Check the rendering of the environment"
      ]
    },
    {
      "cell_type": "markdown",
      "metadata": {
        "id": "CAVDObWN35yc"
      },
      "source": [
        "## Installing packages\n",
        "We start by installing Jumanji"
      ]
    },
    {
      "cell_type": "code",
      "execution_count": null,
      "metadata": {
        "id": "ILprnYtbT387"
      },
      "outputs": [],
      "source": [
        "%%capture\n",
        "! pip install jumanji\n",
        "! pip install Pillow==9.0.0\n"
      ]
    },
    {
      "cell_type": "markdown",
      "metadata": {
        "id": "F4Ue-vzs4SAY"
      },
      "source": [
        "## 1. Types\n",
        "The types will define the data types used to represent the state and observations of the environment.\n",
        "- `State`: What data/variables you need to store in your environment to easily write the environment methods.\n",
        "- `Observation`: What meaningful information you should provide to the agent. \n",
        "\n",
        "### Import the necessary modules\n",
        "`Array` and `Numeric` are modules within the Chex library that provide functionality for working with JAX arrays and numerical computations."
      ]
    },
    {
      "cell_type": "code",
      "execution_count": null,
      "metadata": {
        "id": "Iq5km25a4Rls"
      },
      "outputs": [],
      "source": [
        "from chex import Array, Numeric, PRNGKey\n",
        "from typing_extensions import TypeAlias\n",
        "#\"State\" and \"Observation\" are implemented as NamedTuple.\n",
        "from typing import NamedTuple\n",
        "\n",
        "Board: TypeAlias = Array"
      ]
    },
    {
      "cell_type": "markdown",
      "metadata": {
        "id": "Oz9k2gbc_ld8"
      },
      "source": [
        "To update the environment state, we forecast that we will need to store the board, a random key for any stochastic operation (sampling a new target location when reached), action mask that indicates which actions are legal or valid to take in a given state of the environment, a step count to terminate the episode when the horizon is reached and a score to count the cummulative reward in order to showcase it in the rendering."
      ]
    },
    {
      "cell_type": "code",
      "execution_count": null,
      "metadata": {
        "id": "37cQUiZ7_l1p"
      },
      "outputs": [],
      "source": [
        "class State(NamedTuple):\n",
        "    board: Board\n",
        "    step_count: Numeric\n",
        "    action_mask: Array\n",
        "    key: PRNGKey\n",
        "    score: Numeric\n",
        "\n",
        "class Observation(NamedTuple):\n",
        "    board: Board\n",
        "    action_mask: Array"
      ]
    },
    {
      "cell_type": "markdown",
      "metadata": {
        "id": "nmy9tiXwH3-N"
      },
      "source": [
        "## Util functions\n",
        "1. Generate a random cell with value 2 or 4.\n",
        "2. Generate an inital board.\n",
        "3. Shift and merge the cells of the game to the 4 directions [Up, Right, Down, Left]\n"
      ]
    },
    {
      "cell_type": "code",
      "execution_count": null,
      "metadata": {
        "id": "Sw9GfKRDXZDy"
      },
      "outputs": [],
      "source": [
        "%%capture\n",
        "import jax\n",
        "import jax.numpy as jnp\n",
        "from typing import Tuple"
      ]
    },
    {
      "cell_type": "markdown",
      "metadata": {
        "id": "knNVz53ReEvr"
      },
      "source": [
        "### Add random cell\n",
        "This function adds a random cell to a given game board. It first selects an empty position on the board at random and assigns a value of 2 or 4 to that position. The function takes in two arguments: the current game board and a key for the random number generator. It returns the updated game board with the new random cell added."
      ]
    },
    {
      "cell_type": "code",
      "execution_count": null,
      "metadata": {
        "id": "xwtw7wB5ZS_M"
      },
      "outputs": [],
      "source": [
        "# First approach\n",
        "def add_random_cell(board: Board, key: PRNGKey) -> Board:\n",
        "    \n",
        "    # Generate a new key\n",
        "    key, subkey = jax.random.split(key)\n",
        "\n",
        "    # Select position of the new random cell\n",
        "    zero_indices = jnp.argwhere(board == 0)\n",
        "    tile_idx = jax.random.choice(\n",
        "        key, jnp.arange(len(zero_indices))\n",
        "    )\n",
        "\n",
        "    # Choose the value of the new cell: 2 with probability 90% or 4 with probability of 10%\n",
        "    cell_value = jax.random.choice(\n",
        "        subkey, jnp.array([2, 4]), p=jnp.array([0.9, 0.1])\n",
        "    )\n",
        "    board = board.at[tuple(zero_indices[tile_idx])].set(cell_value)\n",
        "\n",
        "    return board"
      ]
    },
    {
      "cell_type": "markdown",
      "metadata": {
        "id": "E4zKE2wwL1kH"
      },
      "source": [
        "**Why we have `board=board.at[position].set(cell_value)` instead of `board[position]=cell_value`?**\n",
        "\n",
        "In JAX, arrays are immutable, which means that you cannot modify the values of an existing array. Instead, you need to create a new array with the modified values. "
      ]
    },
    {
      "cell_type": "code",
      "execution_count": null,
      "metadata": {
        "colab": {
          "base_uri": "https://localhost:8080/"
        },
        "id": "NrJ-NFcsbwj8",
        "outputId": "c552ce71-bdc4-4382-a7e7-0271ba7222d8"
      },
      "outputs": [],
      "source": [
        "# Test add_random_cell\n",
        "board=jnp.array(\n",
        "    [\n",
        "        [ 2,  2,  0,  0],\n",
        "        [ 4,  8, 16,  0],\n",
        "        [16,  0, 32,  0],\n",
        "        [32, 64,  0, 64]\n",
        "    ]\n",
        ")\n",
        "key=jax.random.PRNGKey(0)\n",
        "board=add_random_cell(board, key)\n",
        "print(board)"
      ]
    },
    {
      "cell_type": "code",
      "execution_count": null,
      "metadata": {
        "colab": {
          "base_uri": "https://localhost:8080/",
          "height": 484
        },
        "id": "XVgdNTFcbxQK",
        "outputId": "5a0c5408-e953-494d-94cd-1b4d066c2ce0"
      },
      "outputs": [],
      "source": [
        "# Jitted method\n",
        "add_random_cell_jit = jax.jit(add_random_cell)\n",
        "board = add_random_cell_jit(board, key)\n",
        "print(board)"
      ]
    },
    {
      "cell_type": "markdown",
      "metadata": {
        "id": "sK_sn1A8wZ2H"
      },
      "source": [
        "**What is the reason for jitted functions not accepting non-static variables?**\n",
        "\n",
        "Jitted functions may not accept non-static variables, such as arrays, because the size of the variable is not known at compile time. This can make it difficult for the compiler to generate efficient code for accessing and manipulating the variable. Dynamic allocation of variables at runtime means their size is only determined at runtime, which is why jitted functions may not be able to handle non-static variables effectively.\n",
        "\n",
        "**Idea to solve the non-static array**\n",
        "1. Flatten the matrix of the board (It will be easy to deal with 1D array than 2D when it comes to choose random position).\n",
        "\n",
        "2. Since we can't use `argwhere`, we change the matrix values to be boolean (`True` if the cell is empty and `False` if not) and we use random choice, but we add probabilities associated to each cell.\n",
        "\n",
        "3. After getting the random position of the new cell in the 1D array, we translate it to be for the 2D one.\n",
        "\n"
      ]
    },
    {
      "cell_type": "code",
      "execution_count": null,
      "metadata": {
        "id": "nh99cL66IfsG"
      },
      "outputs": [],
      "source": [
        "# Solution\n",
        "def add_random_cell(board: Board, key: PRNGKey) -> Board:\n",
        "    # Generate a new key\n",
        "    key, subkey = jax.random.split(key)\n",
        "\n",
        "    # Select position of the new random cell\n",
        "    empty_flatten_board = jnp.ravel(board == 0)\n",
        "    tile_idx = jax.random.choice(\n",
        "        key, jnp.arange(len(empty_flatten_board)), p=empty_flatten_board\n",
        "    )\n",
        "    # Convert the selected tile's location in the flattened array to its position on the board.\n",
        "    board_size=board.shape[0]\n",
        "    position = jnp.divmod(tile_idx, board_size)\n",
        "\n",
        "    # Choose the value of the new cell: 2 with probability 90% or 4 with probability of 10%\n",
        "    cell_value = jax.random.choice(\n",
        "        subkey, jnp.array([2, 4]), p=jnp.array([0.9, 0.1])\n",
        "    )\n",
        "    board = board.at[position].set(cell_value)\n",
        "\n",
        "    return board"
      ]
    },
    {
      "cell_type": "code",
      "execution_count": null,
      "metadata": {
        "colab": {
          "base_uri": "https://localhost:8080/"
        },
        "id": "92L95RsFWN3a",
        "outputId": "fe3a651c-244c-4403-c945-14725b5e049a"
      },
      "outputs": [],
      "source": [
        "# Test add_random_cell\n",
        "board=jnp.array(\n",
        "    [\n",
        "        [ 2,  2,  0,  0],\n",
        "        [ 4,  8, 16,  0],\n",
        "        [16,  0, 32,  0],\n",
        "        [32, 64,  0, 64]\n",
        "    ]\n",
        ")\n",
        "key=jax.random.PRNGKey(5)\n",
        "add_random_cell_jit = jax.jit(add_random_cell)\n",
        "board = add_random_cell_jit(board, key)\n",
        "print(board)"
      ]
    },
    {
      "cell_type": "markdown",
      "metadata": {
        "id": "2G0u6UG9fJ-b"
      },
      "source": [
        "### Generate the initial board\n",
        "This function generates an initial game board for an environment. The board is initially empty, with a specified size. The function then selects a random cell on the board and fills it with a value of 2 or 4. The function takes in two arguments, which are the board size and a key for the random number generator. It returns the generated game board as the output."
      ]
    },
    {
      "cell_type": "code",
      "execution_count": null,
      "metadata": {
        "id": "Ctj5o-bhfsBB"
      },
      "outputs": [],
      "source": [
        "def generate_board(board_size:int, key: PRNGKey) -> Board:\n",
        "    # Create empty board\n",
        "    board = jnp.zeros((board_size, board_size), dtype=jnp.int32)\n",
        "\n",
        "    # Fill one random cell with a value of 2 or 4\n",
        "    board = add_random_cell(board, key)\n",
        "\n",
        "    return board"
      ]
    },
    {
      "cell_type": "code",
      "execution_count": null,
      "metadata": {
        "colab": {
          "base_uri": "https://localhost:8080/"
        },
        "id": "Gm0laww2gNtw",
        "outputId": "69d0a5a3-ad47-4ee6-b052-4a72f93558df"
      },
      "outputs": [],
      "source": [
        "key=jax.random.PRNGKey(0)\n",
        "board=generate_board(4, key)\n",
        "print(board)"
      ]
    },
    {
      "cell_type": "markdown",
      "metadata": {
        "id": "WwQtjtJyhC6R"
      },
      "source": [
        "### Board Movements and Element Merging Strategies for the 2048 Game\n",
        "**1. Shift a column**\n",
        "\n",
        "A straightforward approach to shifting all non-zero elements of an array to the left is to maintain their order while filling the remaining positions with zeros.\n",
        "\n",
        "**Steps**\n",
        "  \n",
        "  a. Shift nonzero element from index i to index j and increment j. For example, in the case of this column [2, 0, 2, 0], the first loop condition will be invoked when `i` equals 0 and 2, and it will return successively ([2, 0, 2, 0], `j` = 1) and ([2, 2, 2, 0], `j` = 2).\n",
        "  \n",
        "  b. Fill the remaining elements of the column with zeros. For example: if the initial column is [2, 0, 2, 0] then this method will be invoked when `j`    equals to 2: [2, 2, 2, 0]-> [2, 2, 0, 0] and 3: [2, 2, 0, 0]->[2, 2, 0, 0]."
      ]
    },
    {
      "cell_type": "code",
      "execution_count": null,
      "metadata": {
        "id": "BDKDWfgWXCLB"
      },
      "outputs": [],
      "source": [
        "def shift_up(col: Array) -> Array:\n",
        "    # Initialize a pointer to keep track of the next position to insert a non-zero element\n",
        "    j = 0\n",
        "\n",
        "    # Iterate over the array and move all non-zero elements to the left\n",
        "    for i in range(len(col)):\n",
        "        if col[i] != 0:\n",
        "            col= col.at[j].set(col[i])\n",
        "            j += 1\n",
        "\n",
        "    # Fill the remaining positions with zeros\n",
        "    while j< len(col):\n",
        "        col=col.at[j].set(0)\n",
        "        j+=1\n",
        "    return col"
      ]
    },
    {
      "cell_type": "code",
      "execution_count": null,
      "metadata": {
        "colab": {
          "base_uri": "https://localhost:8080/"
        },
        "id": "e5HM2vAsXqcz",
        "outputId": "4956cd65-0b3b-456d-e7aa-db1b1c7c8627"
      },
      "outputs": [],
      "source": [
        "board_col=jnp.array([0, 2, 0, 2])\n",
        "updated_col=shift_up(board_col)\n",
        "print(updated_col)"
      ]
    },
    {
      "cell_type": "code",
      "execution_count": null,
      "metadata": {
        "colab": {
          "base_uri": "https://localhost:8080/",
          "height": 502
        },
        "id": "UzL79otbYtfK",
        "outputId": "779699e6-849e-4065-e935-b71e735ffa8d"
      },
      "outputs": [],
      "source": [
        "shift_up_jit = jax.jit(shift_up)\n",
        "updated_col = shift_up_jit(board_col)\n",
        "print(updated_col)"
      ]
    },
    {
      "cell_type": "markdown",
      "metadata": {
        "id": "wZRUwUHNZCRv"
      },
      "source": [
        "**Why if statement and while loop don't work in the case of jitted functions?**\n",
        "\n",
        "Compared to regular Python functions, the jitted functions have certain limitations. For instance, Jitted functions cannot handle certain types of dynamic operations, such as executing arbitrary Python code or using variable-sized data structures. As a result, Jitted functions may not be able to use certain control flow statements, such as if statements and while loops, in the same way as regular Python functions.\n",
        "\n",
        "\n",
        "**Solution**\n",
        "\n",
        "Using `jax.lax`: it is a sub-module of the JAX library, which provides low-level operations for building high-performance numerical computations. jax.lax provides a set of composable functions for performing low-level linear algebra and other numerical operations, and is designed to be efficient, composable, and portable across different hardware platforms.\n",
        "\n",
        "*if statement* -> `jax.lax.cond(condition, true_fun, false_fun, vars)`\n",
        "\n",
        "*while loop* -> `jax.lax.while_loop(cond_fun, body_fun, init_val)[source]`\n",
        "\n",
        "*for loop* -> `jax.lax.scan(f, init, xs)`"
      ]
    },
    {
      "cell_type": "code",
      "execution_count": null,
      "metadata": {
        "id": "wzFZvf2twKOu"
      },
      "outputs": [],
      "source": [
        "def shift_nonzero_element(carry: Tuple) -> Tuple[Array, int]:\n",
        "    col, j, i = carry\n",
        "    col = col.at[j].set(col[i])\n",
        "    j += 1\n",
        "    return col, j\n",
        "\n",
        "\n",
        "def shift_column_elements_up(carry: Tuple, i: int) -> Tuple[Array, None]:\n",
        "    col, j = carry\n",
        "    col, j = jax.lax.cond(\n",
        "        col[i] != 0,\n",
        "        shift_nonzero_element,\n",
        "        lambda col_j_i: col_j_i[:2],\n",
        "        (col, j, i),\n",
        "    )\n",
        "    return (col, j), None\n",
        "\n",
        "\n",
        "def fill_with_zero(carry: Tuple[Array, int]) -> Tuple[Array, int]:\n",
        "    col, j = carry\n",
        "    col = col.at[j].set(0)\n",
        "    j += 1\n",
        "    return col, j\n",
        "\n",
        "\n",
        "def shift_up(col: Array) -> Array:\n",
        "    j = 0\n",
        "    (col, j), _ = jax.lax.scan(  # In example: [2, 0, 2, 0] -> [2, 2, 2, 0]\n",
        "        f=shift_column_elements_up, init=(col, j), xs=jnp.arange(len(col))\n",
        "    )\n",
        "    col, j = jax.lax.while_loop(  # In example: [2, 2, 2, 0] -> [2, 2, 0, 0]\n",
        "        lambda col_j: col_j[1] < len(col_j[0]),\n",
        "        fill_with_zero,\n",
        "        (col, j),\n",
        "    )\n",
        "    return col"
      ]
    },
    {
      "cell_type": "code",
      "execution_count": null,
      "metadata": {
        "colab": {
          "base_uri": "https://localhost:8080/"
        },
        "id": "L1CMU2cNaUOu",
        "outputId": "40badc92-4977-48a6-ba69-dc2c9cf74cb4"
      },
      "outputs": [],
      "source": [
        "shift_up_jit = jax.jit(shift_up)\n",
        "updated_col = shift_up_jit(board_col)\n",
        "print(updated_col)"
      ]
    },
    {
      "cell_type": "markdown",
      "metadata": {
        "id": "1bZ_TuYsaAgf"
      },
      "source": [
        "**2. Merge elements**\n",
        "\n",
        "Combine the adjacent equal elements of a column to the left in accordance with the rules of the 2048 game. As an example, `[0, 0, 2, 2]` can be merged to produce `[0, 0, 4, 0]`."
      ]
    },
    {
      "cell_type": "code",
      "execution_count": null,
      "metadata": {
        "id": "07DH0KbPbvy-"
      },
      "outputs": [],
      "source": [
        "def merge_elements(carry: Tuple) -> Tuple[Array, float]:\n",
        "    col, reward, i = carry\n",
        "    new_col_i = 2*col[i]\n",
        "    col = col.at[i].set(new_col_i)\n",
        "    col = col.at[i + 1].set(0)\n",
        "    reward += new_col_i\n",
        "    return col, reward\n",
        "\n",
        "\n",
        "def merge_equal_elements(\n",
        "    carry: Tuple[Array, float], i: int\n",
        ") -> Tuple[Tuple[Array, float], None]:\n",
        "    col, reward = carry\n",
        "    col, reward = jax.lax.cond(\n",
        "        ((col[i] != 0) & (col[i] == col[i + 1])),\n",
        "        merge_elements,\n",
        "        lambda col_reward_i: col_reward_i[:2],\n",
        "        (col, reward, i),\n",
        "    )\n",
        "    return (col, reward), None\n",
        "\n",
        "@jax.jit\n",
        "def merge_col(col: Array) -> Tuple[Array, float]:\n",
        "    reward = 0.0\n",
        "    elements_indices = jnp.arange(len(col) - 1)\n",
        "    (col, reward), _ = jax.lax.scan(\n",
        "        f=merge_equal_elements, init=(col, reward), xs=elements_indices\n",
        "    )\n",
        "    return col, reward"
      ]
    },
    {
      "cell_type": "code",
      "execution_count": null,
      "metadata": {
        "colab": {
          "base_uri": "https://localhost:8080/"
        },
        "id": "poVjvWjscT9A",
        "outputId": "89bd8f1c-76fe-4337-9276-3a458ee3c763"
      },
      "outputs": [],
      "source": [
        "print(\"Initial column: \",board_col)\n",
        "\n",
        "shift_up_jit = jax.jit(shift_up)\n",
        "updated_col = shift_up_jit(board_col)\n",
        "print(\"After shifting the elements: \",updated_col)\n",
        "\n",
        "updated_col = merge_col(updated_col)\n",
        "\n",
        "print(\"After merging equal elements: \",updated_col[0], \"with a reward equals: \",updated_col[1])"
      ]
    },
    {
      "cell_type": "markdown",
      "metadata": {
        "id": "NCvuqPU3dO6c"
      },
      "source": [
        "**3. Different movements**\n"
      ]
    },
    {
      "cell_type": "code",
      "execution_count": null,
      "metadata": {
        "id": "ZZsuexuHdVhp"
      },
      "outputs": [],
      "source": [
        "def move_up_col(carry: Tuple[Board, float], c: int)-> Tuple[Tuple[Board, float], None]:\n",
        "    board, additional_reward = carry\n",
        "    col = board[:, c]\n",
        "    col = shift_up(col)  # In example: [4, 4, 2, 2] -> [4, 4, 2, 2]\n",
        "    col, reward = merge_col(col)  # In example: [4, 4, 2, 2] -> [8, 0, 4, 0]\n",
        "    col = shift_up(col)  # In example: [8, 0, 4, 0] -> [8, 4, 0, 0]\n",
        "    additional_reward += reward\n",
        "    return (board.at[:, c].set(col), additional_reward), None\n",
        "\n",
        "@jax.jit\n",
        "def move_up(board: Board) -> Tuple[Board, float]:\n",
        "    \"\"\"Move up.\"\"\"\n",
        "    additional_reward = 0.0\n",
        "    col_indices = jnp.arange(board.shape[0])  # Board of size 4 -> [0, 1, 2, 3]\n",
        "    (board, additional_reward), _ = jax.lax.scan(\n",
        "        f=move_up_col,\n",
        "        init=(board, additional_reward),\n",
        "        xs=col_indices,\n",
        "    )\n",
        "    return board, additional_reward\n",
        "\n",
        "\n",
        "def move_down(board: Board) -> Tuple[Board, float]:\n",
        "    \"\"\"Move down.\"\"\"\n",
        "    board, additional_reward = move_up(\n",
        "        board=jnp.flip(board, 0)\n",
        "    )\n",
        "    return jnp.flip(board, 0), additional_reward\n",
        "\n",
        "\n",
        "def move_left(board: Board) -> Tuple[Board, float]:\n",
        "    \"\"\"Move left.\"\"\"\n",
        "    board, additional_reward = move_up(\n",
        "        board=jnp.rot90(board, k=-1)\n",
        "    )\n",
        "    return jnp.rot90(board, k=1), additional_reward\n",
        "\n",
        "\n",
        "def move_right(board: Board) -> Tuple[Board, float]:\n",
        "    \"\"\"Move right.\"\"\"\n",
        "    board, additional_reward = move_up(\n",
        "        board=jnp.rot90(board, k=1)\n",
        "    )\n",
        "    return jnp.rot90(board, k=-1), additional_reward"
      ]
    },
    {
      "cell_type": "code",
      "execution_count": null,
      "metadata": {
        "colab": {
          "base_uri": "https://localhost:8080/"
        },
        "id": "Geq72xIAdp4d",
        "outputId": "05763a03-ace4-4846-f348-92c85c3cfc95"
      },
      "outputs": [],
      "source": [
        "board = jnp.array([\n",
        "    [4, 2, 2, 0],\n",
        "    [4, 8, 2, 4],\n",
        "    [4, 8, 2, 4],\n",
        "    [4, 8, 0, 0]\n",
        "  ])\n",
        "board, reward = move_up(board)\n",
        "print(\"After moving up: \\n\",board,\"\\n Reward: \",reward )"
      ]
    },
    {
      "cell_type": "markdown",
      "metadata": {
        "id": "F6eX28yrC_Ua"
      },
      "source": [
        "### Import the necessary modules\n",
        "In an environment, the following concepts are typically defined:\n",
        "- TimeStep: A timestep represents a single step or moment in the environment, including the current state, reward, discount, and other relevant information.\n",
        "- Restart: A restart occurs when the environment is reset to its initial state, typically at the start of a new episode.\n",
        "- Termination: A termination occurs when an episode ends, either because the agent has reached a terminal state or because a maximum number of timesteps has been reached.\n",
        "- Transition: A transition refers to the process of moving from one state to another state, typically as a result of the agent taking an action."
      ]
    },
    {
      "cell_type": "code",
      "execution_count": null,
      "metadata": {
        "colab": {
          "base_uri": "https://localhost:8080/"
        },
        "id": "DVbqN0JgC-t0",
        "outputId": "ba199d75-9b2e-4efe-a922-097c1fafbcc5"
      },
      "outputs": [],
      "source": [
        "from typing import Optional, Sequence, Tuple\n",
        "\n",
        "import jax\n",
        "import jax.numpy as jnp\n",
        "from chex import Array, PRNGKey\n",
        "\n",
        "#\"spec\" is a set of parameters that define its behavior and enable reproducible instances for testing.\n",
        "from jumanji import specs\n",
        "from jumanji.env import Environment\n",
        "\n",
        "from jumanji.types import TimeStep, restart, termination, transition\n",
        "\n",
        "import matplotlib.pyplot as plt\n",
        "import chex\n",
        "import functools\n",
        "%matplotlib inline\n",
        "from env_viewer import Game2048Viewer"
      ]
    },
    {
      "cell_type": "markdown",
      "metadata": {
        "id": "MLwKoEomBoHY"
      },
      "source": [
        "## Env implementation\n",
        "Now you can implement the environment dynamics using the variables you defined in the `State`. During this process, you may need to iterate going back and forth between implementing the `step` and `reset` functions and changing the `State` to include anything you may have forgotten that is needed for the environment dynamics.\n",
        "\n",
        "Need to implement the following methods:\n",
        "- `observation_spec()`: defines the observation spec.\n",
        "- `action_spec()`: defines the action spec.\n",
        "- `reset(key)`: the environment reset behavior. This method generates a new instance/problem/initial state. Also returns a `TimeStep` that contains observation, reward, etc, things observed by the agent.\n",
        "- `step(state, action)`: the environment step behavior. This method generates a new environment state given a current state and an action taken by the agent. Also returns a `TimeStep` that contains observation, reward, etc, things observed by the agent."
      ]
    },
    {
      "cell_type": "code",
      "execution_count": null,
      "metadata": {
        "id": "UkH7DqhHCW83"
      },
      "outputs": [],
      "source": [
        "class Game2048(Environment[State]):\n",
        "  \n",
        "    def __init__(\n",
        "        self, board_size: int = 4, env_viewer: Optional[Game2048Viewer] = None\n",
        "    ) -> None:\n",
        "        self.board_size = board_size\n",
        "\n",
        "        # Create viewer used for rendering\n",
        "        self._env_viewer = env_viewer or Game2048Viewer(\"2048\", board_size)\n",
        "\n",
        "    def __repr__(self) -> str:\n",
        "        \"\"\"String representation of the environment.\"\"\"\n",
        "        return f\"2048 Game(board_size={self.board_size})\"\n",
        "\n",
        "    def observation_spec(self) -> specs.Spec:\n",
        "        \"\"\"Specifications of the observation of the `Game2048` environment.\"\"\"\n",
        "        return specs.Spec(\n",
        "            Observation,\n",
        "            \"ObservationSpec\",\n",
        "            board=specs.Array(\n",
        "                shape=(self.board_size, self.board_size),\n",
        "                dtype=jnp.int32,\n",
        "                name=\"board\",\n",
        "            ),\n",
        "            action_mask=specs.BoundedArray(\n",
        "                shape=(4,),\n",
        "                dtype=bool,\n",
        "                minimum=False,\n",
        "                maximum=True,\n",
        "                name=\"action_mask\",\n",
        "            ),\n",
        "        )\n",
        "\n",
        "    def action_spec(self) -> specs.DiscreteArray:\n",
        "        \"\"\"Returns the action spec.\n",
        "\n",
        "        4 actions: [0, 1, 2, 3] -> [Up, Right, Down, Left].\n",
        "\n",
        "        Returns:\n",
        "            action_spec: `DiscreteArray` spec object.\n",
        "        \"\"\"\n",
        "        return specs.DiscreteArray(4, name=\"action\")\n",
        "\n",
        "    def reset(self, key: PRNGKey) -> Tuple[State, TimeStep[Observation]]:\n",
        "        \"\"\"Resets the environment.\"\"\"\n",
        "\n",
        "        key, board_key = jax.random.split(key)\n",
        "        board = self._generate_board(board_key)\n",
        "        action_mask = self._get_action_mask(board)\n",
        "\n",
        "        obs = Observation(board=board, action_mask=action_mask)\n",
        "\n",
        "        timestep = restart(observation=obs)\n",
        "\n",
        "        state = State(\n",
        "            board=board,\n",
        "            step_count=jnp.int32(0),\n",
        "            action_mask=action_mask,\n",
        "            key=key,\n",
        "            score=jnp.array(0, float),\n",
        "        )\n",
        "\n",
        "        return state, timestep\n",
        "\n",
        "    def step(self, state: State, action) -> Tuple[State, TimeStep[Observation]]:\n",
        "        \"\"\"Updates the environment state after the agent takes an action.\"\"\"\n",
        "  \n",
        "        # Take the action in the environment: Up, Right, Down, Left.\n",
        "        updated_board, additional_reward = jax.lax.switch(\n",
        "            action,\n",
        "            [move_up, move_right, move_down, move_left],\n",
        "            state.board,\n",
        "        )\n",
        "\n",
        "        # Generate action mask to keep in the state for the next step and\n",
        "        # to provide to the agent in the observation.\n",
        "        action_mask = self._get_action_mask(board=updated_board)\n",
        "\n",
        "        # Check if the episode terminates (i.e. there are no legal actions).\n",
        "        done = ~jnp.any(action_mask)\n",
        "\n",
        "        # Generate new key.\n",
        "        random_cell_key, new_state_key = jax.random.split(state.key)\n",
        "\n",
        "        # Update the state of the board by adding a new random cell.\n",
        "        updated_board = jax.lax.cond(\n",
        "            done,\n",
        "            lambda board, pkey: board,\n",
        "            self._add_random_cell,\n",
        "            updated_board,\n",
        "            random_cell_key,\n",
        "        )\n",
        "\n",
        "        # Build the state.\n",
        "        state = State(\n",
        "            board=updated_board,\n",
        "            action_mask=action_mask,\n",
        "            step_count=state.step_count + 1,\n",
        "            key=new_state_key,\n",
        "            score=state.score + additional_reward.astype(float),\n",
        "        )\n",
        "\n",
        "        # Generate the observation from the environment state.\n",
        "        observation = Observation(\n",
        "            board=updated_board,\n",
        "            action_mask=action_mask,\n",
        "        )\n",
        "\n",
        "        # Return either a MID or a LAST timestep depending on done.\n",
        "        timestep = jax.lax.cond(\n",
        "            done,\n",
        "            termination,\n",
        "            transition,\n",
        "            additional_reward,\n",
        "            observation,\n",
        "        )\n",
        "\n",
        "        return state, timestep\n",
        "\n",
        "    def _generate_board(self, key: PRNGKey) -> Board:\n",
        "        \"\"\"Generates an initial board for the environment.\"\"\"\n",
        "\n",
        "        # Create empty board\n",
        "        board = jnp.zeros((self.board_size, self.board_size), dtype=jnp.int32)\n",
        "\n",
        "        # Fill one random cell with a value of 2 or 4\n",
        "        board = self._add_random_cell(board, key)\n",
        "\n",
        "        return board\n",
        "\n",
        "    def _add_random_cell(self, board: Board, key: PRNGKey) -> Board:\n",
        "        \"\"\"Adds a new random cell to the board.\"\"\"\n",
        "        key, subkey = jax.random.split(key)\n",
        "\n",
        "        # Select position of the new random cell\n",
        "        empty_flatten_board = jnp.ravel(board == 0)\n",
        "        tile_idx = jax.random.choice(\n",
        "            key, jnp.arange(len(empty_flatten_board)), p=empty_flatten_board\n",
        "        )\n",
        "        # Convert the selected tile's location in the flattened array to its position on the board.\n",
        "        position = jnp.divmod(tile_idx, self.board_size)\n",
        "\n",
        "        # Choose the value of the new cell: 2 with probability 90% or 4 with probability of 10%\n",
        "        cell_value = jax.random.choice(\n",
        "            subkey, jnp.array([2, 4]), p=jnp.array([0.9, 0.1])\n",
        "        )\n",
        "        board = board.at[position].set(cell_value)\n",
        "\n",
        "        return board\n",
        "\n",
        "    def _get_action_mask(self, board: Board) -> Array:\n",
        "        \"\"\"Generates a binary mask indicating which actions are valid.\n",
        "\n",
        "        If the movement in that direction leaves the board unchanged, the action is\n",
        "        considered illegal.\n",
        "\n",
        "        Args:\n",
        "            board: current board of the environment.\n",
        "\n",
        "        Returns:\n",
        "            action_mask: action mask for the current state of the environment.\n",
        "        \"\"\"\n",
        "        action_mask = jnp.array(\n",
        "            [\n",
        "                jnp.any(move_up(board)[0] != board),\n",
        "                jnp.any(move_right(board)[0] != board),\n",
        "                jnp.any(move_down(board)[0] != board),\n",
        "                jnp.any(move_left(board)[0] != board),\n",
        "            ],\n",
        "        )\n",
        "        return action_mask\n",
        "\n",
        "    def render(self, state: State, save: bool = True, path: str = \"./2048.png\") -> None:\n",
        "        \"\"\"Renders the current state of the game board.\"\"\"\n",
        "        self._env_viewer.render(state=state, save=save, path=path)\n",
        "\n",
        "    def animate(\n",
        "        self,\n",
        "        states: Sequence[State],\n",
        "        interval: int = 400,\n",
        "        blit: bool = False,\n",
        "        save: bool = True,\n",
        "        path: str = \"./2048.gif\",\n",
        "    ):\n",
        "        \"\"\"Creates an animated gif of the 2048 game board based on the sequence of game states.\"\"\"\n",
        "\n",
        "        return self._env_viewer.animate(\n",
        "            states=states, interval=interval, blit=blit, save=save, path=path\n",
        "        )"
      ]
    },
    {
      "cell_type": "markdown",
      "metadata": {
        "id": "jNq1EU8RtRXY"
      },
      "source": [
        "### Random Agent\n",
        "\n",
        "- Debug with random actions to check that your environment works properly and follows the env interface.\n",
        "\n",
        "- Visualize a random policy acting on your problem.\n"
      ]
    },
    {
      "cell_type": "code",
      "execution_count": null,
      "metadata": {
        "id": "vF66lmzTsAcO"
      },
      "outputs": [],
      "source": [
        "def random_rollout(game2048: Game2048, key: chex.PRNGKey) -> chex.Numeric:\n",
        "    def body_fun(\n",
        "            carry: Tuple[State, TimeStep, chex.PRNGKey, chex.Numeric],\n",
        "    ) -> Tuple[State, TimeStep, chex.PRNGKey, chex.Numeric]:\n",
        "        state, timestep, key, return_ = carry\n",
        "        action_key, key = jax.random.split(key)\n",
        "        action = jax.random.choice(action_key, jnp.arange(4), p=state.action_mask.flatten())\n",
        "        state, timestep = game2048.step(state, action)\n",
        "        return_ += timestep.reward\n",
        "        return state, timestep, key, return_\n",
        "\n",
        "    state, timestep = game2048.reset(key)\n",
        "    state, timestep, key, return_ = jax.lax.while_loop(\n",
        "        cond_fun=lambda carry: ~carry[1].last(),\n",
        "        body_fun=body_fun,\n",
        "        init_val=(state, timestep, key, jnp.float32(0)),\n",
        "    )\n",
        "    return return_\n",
        "\n",
        "random_rollout_jit = jax.jit(functools.partial(random_rollout, Game2048(4)))"
      ]
    },
    {
      "cell_type": "code",
      "execution_count": null,
      "metadata": {
        "colab": {
          "base_uri": "https://localhost:8080/",
          "height": 489
        },
        "id": "Ytrt9SzpsUlT",
        "outputId": "53afe290-2e3a-438e-e427-6f858c72acf7"
      },
      "outputs": [],
      "source": [
        "keys = jax.random.split(jax.random.PRNGKey(0), 1000)\n",
        "returns = jnp.array([random_rollout_jit(key) for key in keys])\n",
        "print(f\"Average return: {returns.mean():.1f} +/- {returns.std():.1f}\")\n",
        "plt.hist(returns)\n",
        "plt.title(\"Returns on a 4x4 game2048\")\n",
        "plt.xlabel(\"Return\");"
      ]
    },
    {
      "cell_type": "markdown",
      "metadata": {
        "id": "0tNPrz7pwc52"
      },
      "source": [
        "**Non jitting vs Jitting the environment**"
      ]
    },
    {
      "cell_type": "code",
      "execution_count": null,
      "metadata": {
        "colab": {
          "base_uri": "https://localhost:8080/"
        },
        "id": "krQE4Z6Hwgkh",
        "outputId": "9b7fb7f3-4d9b-4a52-c7f3-6032238a931c"
      },
      "outputs": [],
      "source": [
        "# Jitted methods\n",
        "%%timeit\n",
        "random_rollout_jit(keys[0])"
      ]
    },
    {
      "cell_type": "code",
      "execution_count": null,
      "metadata": {
        "colab": {
          "base_uri": "https://localhost:8080/"
        },
        "id": "GljqdciOz-zK",
        "outputId": "87f6275e-9f21-45da-d947-d3e2a1bc4aeb"
      },
      "outputs": [],
      "source": [
        "# Non jitted method\n",
        "%%timeit\n",
        "random_rollout(Game2048(4), keys[0])"
      ]
    },
    {
      "cell_type": "markdown",
      "metadata": {
        "id": "AhKY3ZM7taL2"
      },
      "source": [
        "## Rendering\n",
        "Let's see how the agent played 2048 to receive over 4000 score for the random key 135."
      ]
    },
    {
      "cell_type": "code",
      "execution_count": null,
      "metadata": {
        "id": "l0YST7qnvWBv"
      },
      "outputs": [],
      "source": [
        "def random_rollout(game2048: Game2048, key: chex.PRNGKey) -> chex.Numeric:\n",
        "    def body_fun(\n",
        "            carry: Tuple[State, TimeStep, chex.PRNGKey, chex.Numeric],\n",
        "    ) -> Tuple[State, TimeStep, chex.PRNGKey, chex.Numeric]:\n",
        "        state, timestep, key, return_ = carry\n",
        "        action_key, key = jax.random.split(key)\n",
        "        action = jax.random.choice(action_key, jnp.arange(4), p=state.action_mask.flatten())\n",
        "        state, timestep = game2048.step(state, action)\n",
        "        return_ += timestep.reward\n",
        "        return state, timestep, key, return_\n",
        "\n",
        "    state, timestep = game2048.reset(key)\n",
        "    states=[]\n",
        "    states.append(state)\n",
        "    return_=jnp.float32(0)\n",
        "    while not timestep.last():\n",
        "        state, timestep, key, return_=body_fun((state, timestep, key, return_))\n",
        "        states.append(state)\n",
        "    return states, return_\n",
        "\n",
        "game2048=Game2048(4)\n",
        "states, return_=random_rollout(game2048, keys[0]) \n",
        "game2048.animate(states=states, interval=400, blit=False)"
      ]
    }
  ],
  "metadata": {
    "colab": {
      "provenance": []
    },
    "kernelspec": {
      "display_name": "Python 3",
      "name": "python3"
    },
    "language_info": {
      "codemirror_mode": {
        "name": "ipython",
        "version": 3
      },
      "file_extension": ".py",
      "mimetype": "text/x-python",
      "name": "python",
      "nbconvert_exporter": "python",
      "pygments_lexer": "ipython3",
      "version": "3.8.13"
    }
  },
  "nbformat": 4,
  "nbformat_minor": 0
}
